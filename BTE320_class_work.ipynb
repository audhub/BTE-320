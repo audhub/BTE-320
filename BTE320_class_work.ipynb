{
  "nbformat": 4,
  "nbformat_minor": 0,
  "metadata": {
    "colab": {
      "provenance": [],
      "authorship_tag": "ABX9TyMMczSk6Ohnyn0v1aV9FTou",
      "include_colab_link": true
    },
    "kernelspec": {
      "name": "python3",
      "display_name": "Python 3"
    },
    "language_info": {
      "name": "python"
    }
  },
  "cells": [
    {
      "cell_type": "markdown",
      "metadata": {
        "id": "view-in-github",
        "colab_type": "text"
      },
      "source": [
        "<a href=\"https://colab.research.google.com/github/audhub/BTE-320/blob/main/BTE320_class_work.ipynb\" target=\"_parent\"><img src=\"https://colab.research.google.com/assets/colab-badge.svg\" alt=\"Open In Colab\"/></a>"
      ]
    },
    {
      "cell_type": "markdown",
      "source": [
        "**in class: 1/27**\n",
        "\n",
        "format of an if statement"
      ],
      "metadata": {
        "id": "U3sNfURU1kzw"
      }
    },
    {
      "cell_type": "code",
      "execution_count": null,
      "metadata": {
        "id": "LxMzDIJG1hIT"
      },
      "outputs": [],
      "source": [
        "if condition:\n",
        "  expr\n",
        "  expr"
      ]
    },
    {
      "cell_type": "code",
      "source": [
        "fico = int(input('Please provide your FICO score:'))\n",
        "\n",
        "if fico >= 700:\n",
        "  print('Loan granted!')\n",
        "else:\n",
        "  print('Loan denied!')"
      ],
      "metadata": {
        "id": "iUO8j0pQ2Smg"
      },
      "execution_count": null,
      "outputs": []
    },
    {
      "cell_type": "markdown",
      "source": [
        "another option using elif:\n",
        "elif can be used infinte amount of times - using else after elif is optional"
      ],
      "metadata": {
        "id": "O7UoW_uc2YaG"
      }
    },
    {
      "cell_type": "code",
      "source": [
        "fico = int(input('Please provide your FICO score:'))\n",
        "\n",
        "if fico >= 700:\n",
        "  print('Loan granted!')\n",
        "elif fico <700:\n",
        "  print('Loan denied!')"
      ],
      "metadata": {
        "id": "i_zU965A2XxQ"
      },
      "execution_count": null,
      "outputs": []
    },
    {
      "cell_type": "code",
      "source": [
        "num_grade = float(input('Please provide your numeric grade:'))\n",
        "\n",
        "if num_grade >= 97:\n",
        "  print('A+')\n",
        "elif num_grade >= 93:\n",
        "  print('A')\n",
        "elif num_grade >= 90:\n",
        "   print('A-')\n",
        "elif num_grade >= 87:\n",
        "   print('B+')\n",
        "elif num_grade >= 83:\n",
        "   print('B')"
      ],
      "metadata": {
        "id": "i1XlXNUK2dOq"
      },
      "execution_count": null,
      "outputs": []
    },
    {
      "cell_type": "code",
      "source": [
        "customer_type = input('Please enter customer type (N: new/E: existing):')\n",
        "deposit = float(input('Please enter deposit amount: '))\n",
        "\n",
        "if customer_type == 'E':\n",
        "  if deposit >= 10000:\n",
        "    ir = 3.5\n",
        "  elif deposit >=1000:\n",
        "    ir = 3.25\n",
        "  else:\n",
        "    ir = 3.0\n",
        "else:\n",
        "  ir = 4\n",
        "\n",
        "total = (1+ ir/100) * deposit\n",
        "print(f'Total deposit: {total}$')"
      ],
      "metadata": {
        "id": "r662dLUr2fkN"
      },
      "execution_count": null,
      "outputs": []
    },
    {
      "cell_type": "code",
      "source": [
        "customer_type = input('Please enter customer type (N: new/E: existing):')\n",
        "deposit = float(input('Please enter deposit amount: '))\n",
        "\n",
        "if customer_type == 'E' and deposit >= 10000:\n",
        "  ir = 3.5\n",
        "elif customer_type == 'E' and deposit >= 1000:\n",
        "  ir = 3.25\n",
        "elif customer_type == 'E' and deposit < 1000:\n",
        "  ir = 3.0\n",
        "else:\n",
        "  ir = 4\n",
        "\n",
        "total = (1+ ir/100) * deposit\n",
        "print(f'Total deposit: {total}$')"
      ],
      "metadata": {
        "id": "57aqCXEV2jAd"
      },
      "execution_count": null,
      "outputs": []
    },
    {
      "cell_type": "markdown",
      "source": [
        "2/3 while/for loops\n",
        "\n",
        "for loop syntax:"
      ],
      "metadata": {
        "id": "hpm6JahB2zhP"
      }
    },
    {
      "cell_type": "code",
      "source": [
        "for variable in seq:\n",
        "  expr\n",
        "  expr\n",
        "# process repeats as long as it is true"
      ],
      "metadata": {
        "id": "5xBPZhhM21p3"
      },
      "execution_count": null,
      "outputs": []
    },
    {
      "cell_type": "markdown",
      "source": [
        "range(start, stop, step)\n",
        "creates sequences of values\n",
        "\n",
        "start and step are default values 0 and 1 so only have to define the stop value unless changing defaults"
      ],
      "metadata": {
        "id": "NkF91hwt4EYr"
      }
    },
    {
      "cell_type": "markdown",
      "source": [
        "Feb 7 while loops"
      ],
      "metadata": {
        "id": "gLgh-g2vb4Be"
      }
    },
    {
      "cell_type": "code",
      "source": [
        "num = 1\n",
        "while num < 5:\n",
        "  print(num,  num**2, num **3)\n",
        "  num = num + 1"
      ],
      "metadata": {
        "id": "EIPNYaYB4Co-",
        "colab": {
          "base_uri": "https://localhost:8080/"
        },
        "outputId": "80f47164-bc21-458a-a3f0-b9ffd0723938"
      },
      "execution_count": null,
      "outputs": [
        {
          "output_type": "stream",
          "name": "stdout",
          "text": [
            "1 1 1\n",
            "2 4 8\n",
            "3 9 27\n",
            "4 16 64\n"
          ]
        }
      ]
    },
    {
      "cell_type": "code",
      "source": [
        "s = input('Enter yes or no: ')\n",
        "\n",
        "while s == 'yes':\n",
        "  print('Ok!')"
      ],
      "metadata": {
        "id": "tMdfO39AfH_j"
      },
      "execution_count": null,
      "outputs": []
    },
    {
      "cell_type": "markdown",
      "source": [
        "taking an in class assignment movie theater and turning it into a while loop"
      ],
      "metadata": {
        "id": "KNjX-rMshRn2"
      }
    },
    {
      "cell_type": "code",
      "source": [
        "print('Ad$', 'Profit')\n",
        "cost = 0\n",
        "while cost < 201:\n",
        "  additional = 2 * round(cost**.5)\n",
        "  profit = (20+additional)*10-200-cost\n",
        "  print(cost, '\\t', profit)\n",
        "  cost = cost +25"
      ],
      "metadata": {
        "colab": {
          "base_uri": "https://localhost:8080/"
        },
        "id": "2bTESU16hRV9",
        "outputId": "c41705d4-b22e-4aa4-ada1-8e265df7fa66"
      },
      "execution_count": null,
      "outputs": [
        {
          "output_type": "stream",
          "name": "stdout",
          "text": [
            "Ad$ Profit\n",
            "0 \t 0\n",
            "25 \t 75\n",
            "50 \t 90\n",
            "75 \t 105\n",
            "100 \t 100\n",
            "125 \t 95\n",
            "150 \t 90\n",
            "175 \t 85\n",
            "200 \t 80\n"
          ]
        }
      ]
    },
    {
      "cell_type": "code",
      "source": [
        "num = 9\n",
        "\n",
        "while num > 0:\n",
        "  num = num - 1\n",
        "  if num ==5:\n",
        "    break # will skip the rest of the while loop\n",
        "  print(num)\n",
        "\n",
        "print('End')\n",
        "\n",
        "#or use continue and it will keep going\n",
        "num = 9\n",
        "\n",
        "while num > 0:\n",
        "  num = num - 1\n",
        "  if num ==5:\n",
        "    continue\n",
        "  print(num)\n",
        "\n",
        "print('End')"
      ],
      "metadata": {
        "colab": {
          "base_uri": "https://localhost:8080/"
        },
        "id": "3EtqS4IjjgyG",
        "outputId": "d8e4d582-eb27-43ec-8ff3-086894f91218"
      },
      "execution_count": null,
      "outputs": [
        {
          "output_type": "stream",
          "name": "stdout",
          "text": [
            "8\n",
            "7\n",
            "6\n",
            "End\n",
            "8\n",
            "7\n",
            "6\n",
            "4\n",
            "3\n",
            "2\n",
            "1\n",
            "0\n",
            "End\n"
          ]
        }
      ]
    },
    {
      "cell_type": "markdown",
      "source": [
        "for loops:\n",
        "known number of iterations, uses a counter\n",
        "\n",
        "while loops:\n",
        "unbounded number of iterations"
      ],
      "metadata": {
        "id": "0rMSA3xRLvxo"
      }
    },
    {
      "cell_type": "markdown",
      "source": [
        "2/12 class work"
      ],
      "metadata": {
        "id": "fW-RgDsDO7dG"
      }
    },
    {
      "cell_type": "code",
      "source": [
        "s = \"this is a string\"\n",
        "\n",
        "s3 ='abc'\n",
        "\n",
        "print(2* s3)"
      ],
      "metadata": {
        "colab": {
          "base_uri": "https://localhost:8080/"
        },
        "id": "0g1c-ggxNLrV",
        "outputId": "0783aa3d-81fd-4797-b4d5-8053a589bd60"
      },
      "execution_count": null,
      "outputs": [
        {
          "output_type": "stream",
          "name": "stdout",
          "text": [
            "abcabc\n"
          ]
        }
      ]
    },
    {
      "cell_type": "code",
      "source": [
        "len(s3)"
      ],
      "metadata": {
        "colab": {
          "base_uri": "https://localhost:8080/"
        },
        "id": "1RNaL75CPJP-",
        "outputId": "326a1bfb-f160-40e5-947d-847b856bed3a"
      },
      "execution_count": null,
      "outputs": [
        {
          "output_type": "execute_result",
          "data": {
            "text/plain": [
              "3"
            ]
          },
          "metadata": {},
          "execution_count": 2
        }
      ]
    },
    {
      "cell_type": "code",
      "source": [
        "a = 'audrey'\n",
        "a[1]"
      ],
      "metadata": {
        "colab": {
          "base_uri": "https://localhost:8080/",
          "height": 35
        },
        "id": "ij2waQNfQlVO",
        "outputId": "0e46db8d-6e86-4d90-f288-b1d2d16b1aa7"
      },
      "execution_count": null,
      "outputs": [
        {
          "output_type": "execute_result",
          "data": {
            "text/plain": [
              "'u'"
            ],
            "application/vnd.google.colaboratory.intrinsic+json": {
              "type": "string"
            }
          },
          "metadata": {},
          "execution_count": 3
        }
      ]
    },
    {
      "cell_type": "code",
      "source": [
        "a[:4]"
      ],
      "metadata": {
        "colab": {
          "base_uri": "https://localhost:8080/",
          "height": 35
        },
        "id": "yS9c-d7pUO8o",
        "outputId": "510c7ba5-80aa-43b7-b63b-aa66f6fb7c9e"
      },
      "execution_count": null,
      "outputs": [
        {
          "output_type": "execute_result",
          "data": {
            "text/plain": [
              "'audr'"
            ],
            "application/vnd.google.colaboratory.intrinsic+json": {
              "type": "string"
            }
          },
          "metadata": {},
          "execution_count": 4
        }
      ]
    },
    {
      "cell_type": "code",
      "source": [
        "a[3:]"
      ],
      "metadata": {
        "id": "sqeS2NgNUVNs",
        "outputId": "851c6886-df6d-4367-a7a5-cc9a69beef0e",
        "colab": {
          "base_uri": "https://localhost:8080/",
          "height": 35
        }
      },
      "execution_count": null,
      "outputs": [
        {
          "output_type": "execute_result",
          "data": {
            "text/plain": [
              "'rey'"
            ],
            "application/vnd.google.colaboratory.intrinsic+json": {
              "type": "string"
            }
          },
          "metadata": {},
          "execution_count": 5
        }
      ]
    },
    {
      "cell_type": "markdown",
      "source": [
        "Feb 17:\n",
        "\n",
        "lists are mutable\n",
        "\n",
        ".append()\n",
        ".extend() - takes only lists and appends to the end\n",
        ".insert(index, item) - adds an item to a list, iputs = where you want to insert (index) and what you want to add"
      ],
      "metadata": {
        "id": "iNsrRFfN7uEX"
      }
    },
    {
      "cell_type": "code",
      "source": [
        "L = [1, 'two',3.14, [4,5,6,]]\n",
        "L.insert(2,'abcde')\n",
        "print(L)"
      ],
      "metadata": {
        "colab": {
          "base_uri": "https://localhost:8080/"
        },
        "id": "i1yZrOGu8p16",
        "outputId": "68ed5ee8-ba14-4560-db60-d84bf592b908"
      },
      "execution_count": null,
      "outputs": [
        {
          "output_type": "stream",
          "name": "stdout",
          "text": [
            "[1, 'two', 'abcde', 3.14, [4, 5, 6]]\n"
          ]
        }
      ]
    },
    {
      "cell_type": "code",
      "source": [
        "L.pop(1) # input is the index, default value is -1 (removes last one)\n",
        "L"
      ],
      "metadata": {
        "colab": {
          "base_uri": "https://localhost:8080/"
        },
        "id": "Ovw6GRK79Ecq",
        "outputId": "4d5d7e74-d500-4820-8c74-4c916c28822e"
      },
      "execution_count": null,
      "outputs": [
        {
          "output_type": "execute_result",
          "data": {
            "text/plain": [
              "[1]"
            ]
          },
          "metadata": {},
          "execution_count": 6
        }
      ]
    },
    {
      "cell_type": "code",
      "source": [
        "L_p = [5,8,2,0,1]\n",
        "L_p.sort() # (reverse=True) will reverse the order of list *** can only do with a pure list (int)\n",
        "L_p"
      ],
      "metadata": {
        "colab": {
          "base_uri": "https://localhost:8080/"
        },
        "id": "gJmCzJxG-Zc3",
        "outputId": "030e68d3-94bb-42a7-d08a-c0b141978853"
      },
      "execution_count": null,
      "outputs": [
        {
          "output_type": "execute_result",
          "data": {
            "text/plain": [
              "[0, 1, 2, 5, 8]"
            ]
          },
          "metadata": {},
          "execution_count": 7
        }
      ]
    },
    {
      "cell_type": "code",
      "source": [
        "L = [1,2,3,4,5]\n",
        "L.remove(2) #input is the item you want to remove (not the position!!)\n",
        "L"
      ],
      "metadata": {
        "colab": {
          "base_uri": "https://localhost:8080/"
        },
        "id": "azQ2unpMEZtq",
        "outputId": "36b0bba5-ceff-440d-8239-84fee4788a7f"
      },
      "execution_count": null,
      "outputs": [
        {
          "output_type": "execute_result",
          "data": {
            "text/plain": [
              "[1, 3, 4, 5]"
            ]
          },
          "metadata": {},
          "execution_count": 9
        }
      ]
    },
    {
      "cell_type": "markdown",
      "source": [
        "Feburary 19:\n",
        "\n",
        "tuples are not mutable"
      ],
      "metadata": {
        "id": "0oaJxMi1PAyP"
      }
    },
    {
      "cell_type": "markdown",
      "source": [
        "feb 24: adding lists, etc"
      ],
      "metadata": {
        "id": "DZ6qQosV_CMF"
      }
    },
    {
      "cell_type": "code",
      "source": [
        "l =[]\n",
        "\n",
        "#use loop to add items to the list\n",
        "for num in range(1,10,2):\n",
        "  l.append(num)\n",
        "\n",
        "l"
      ],
      "metadata": {
        "id": "gYMGZ5EPPDbx",
        "colab": {
          "base_uri": "https://localhost:8080/"
        },
        "outputId": "28240455-7ad8-4286-a50a-59681443c4d9"
      },
      "execution_count": 1,
      "outputs": [
        {
          "output_type": "execute_result",
          "data": {
            "text/plain": [
              "[1, 3, 5, 7, 9]"
            ]
          },
          "metadata": {},
          "execution_count": 1
        }
      ]
    },
    {
      "cell_type": "markdown",
      "source": [
        "'''python\n",
        "L = [item for item in sequence if condition]\n",
        "--- if condition is optional if you have a condition"
      ],
      "metadata": {
        "id": "CmGDy-Yw_3Sv"
      }
    },
    {
      "cell_type": "code",
      "source": [
        "odds= [num for num in range(1,10,2)]\n",
        "odds"
      ],
      "metadata": {
        "colab": {
          "base_uri": "https://localhost:8080/"
        },
        "id": "av4RlLYT_V96",
        "outputId": "5d4c53cc-3f31-462d-a387-2baebaeff79f"
      },
      "execution_count": 3,
      "outputs": [
        {
          "output_type": "execute_result",
          "data": {
            "text/plain": [
              "[1, 3, 5, 7, 9]"
            ]
          },
          "metadata": {},
          "execution_count": 3
        }
      ]
    },
    {
      "cell_type": "markdown",
      "source": [
        "the following will not be on the midterm --- it will be on the final"
      ],
      "metadata": {
        "id": "b-N2A_geAGI8"
      }
    },
    {
      "cell_type": "code",
      "source": [
        "#defining a function\n",
        "def name(inputs for the function):\n",
        "  # if function is called write what the function will do\n",
        ""
      ],
      "metadata": {
        "id": "GvNGSOpjBBeb"
      },
      "execution_count": null,
      "outputs": []
    },
    {
      "cell_type": "markdown",
      "source": [
        "function that takes 2 numerical inputs and returns the sum"
      ],
      "metadata": {
        "id": "hBvM4rzcCJwi"
      }
    },
    {
      "cell_type": "code",
      "source": [
        "def addition(a,b):\n",
        "  print(a + b)\n",
        "\n",
        "addition(2,3)\n"
      ],
      "metadata": {
        "colab": {
          "base_uri": "https://localhost:8080/"
        },
        "id": "6hkDPOv4CNdG",
        "outputId": "551a6a34-99aa-4f75-b9b7-c564245d8058"
      },
      "execution_count": 5,
      "outputs": [
        {
          "output_type": "stream",
          "name": "stdout",
          "text": [
            "5\n"
          ]
        }
      ]
    },
    {
      "cell_type": "code",
      "source": [
        "def range_check(item, sequence):\n",
        "  print('Inside range_check')\n",
        "  if item in sequence:\n",
        "    return True\n",
        "  else:\n",
        "    return False\n",
        "\n",
        "print('Program starts...')\n",
        "c = range_check(3, range(2,4))\n",
        "print(c)"
      ],
      "metadata": {
        "colab": {
          "base_uri": "https://localhost:8080/"
        },
        "id": "JLAxq-ZbICT9",
        "outputId": "aac2a76b-5564-44a5-e9f3-1088572f3544"
      },
      "execution_count": 6,
      "outputs": [
        {
          "output_type": "stream",
          "name": "stdout",
          "text": [
            "Program starts...\n",
            "Inside range_check\n",
            "True\n"
          ]
        }
      ]
    }
  ]
}