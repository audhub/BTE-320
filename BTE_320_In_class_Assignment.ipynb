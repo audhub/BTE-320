{
  "nbformat": 4,
  "nbformat_minor": 0,
  "metadata": {
    "colab": {
      "provenance": [],
      "authorship_tag": "ABX9TyMlmmAdKBN+6YuZSCs6xglP",
      "include_colab_link": true
    },
    "kernelspec": {
      "name": "python3",
      "display_name": "Python 3"
    },
    "language_info": {
      "name": "python"
    }
  },
  "cells": [
    {
      "cell_type": "markdown",
      "metadata": {
        "id": "view-in-github",
        "colab_type": "text"
      },
      "source": [
        "<a href=\"https://colab.research.google.com/github/audhub/BTE-320/blob/main/BTE_320_In_class_Assignment.ipynb\" target=\"_parent\"><img src=\"https://colab.research.google.com/assets/colab-badge.svg\" alt=\"Open In Colab\"/></a>"
      ]
    },
    {
      "cell_type": "code",
      "execution_count": null,
      "metadata": {
        "colab": {
          "base_uri": "https://localhost:8080/"
        },
        "id": "uh7KPsA7cVD8",
        "outputId": "972c38ee-9b42-44cb-9c28-06cccb6ae50e"
      },
      "outputs": [
        {
          "output_type": "stream",
          "name": "stdout",
          "text": [
            "450\n"
          ]
        }
      ],
      "source": [
        "\n",
        "pi = 3.14\n",
        "R= 5\n",
        "h= 10\n",
        "\n",
        "cylinder_sa = (2*int(pi)*(int((R)**2))) + (2*int(pi)*int(R)*int(h))\n",
        "\n",
        "print(cylinder_sa)"
      ]
    },
    {
      "cell_type": "markdown",
      "source": [
        "way teacher solved it in class with inputs:"
      ],
      "metadata": {
        "id": "DHkRPo0xcr0K"
      }
    },
    {
      "cell_type": "code",
      "source": [
        "pi = 3.14\n",
        "radius = float(input(\"Please provide radius:\"))\n",
        "height = float(input('Please provide height of cylinder:'))\n",
        "\n",
        "area = (2*pi*(radius**2))+(2*pi*radius*height)\n",
        "\n",
        "print(f\"Area of cylinder = {area} sq ft\")"
      ],
      "metadata": {
        "colab": {
          "base_uri": "https://localhost:8080/"
        },
        "id": "LEH4F2azcrMF",
        "outputId": "08662516-5f93-4864-8055-a4e6e33088c2"
      },
      "execution_count": null,
      "outputs": [
        {
          "output_type": "stream",
          "name": "stdout",
          "text": [
            "Please provide radius:5\n",
            "Please provide height of cylinder:10\n",
            "Area of cylinder = 471.0 sq ft\n"
          ]
        }
      ]
    },
    {
      "cell_type": "code",
      "source": [
        "customer_type = input('Please enter customer type (N: new/E: existing):')\n",
        "deposit = float(input('Please enter deposit amount: '))\n",
        "\n",
        "if customer_type == 'E':\n",
        "  if deposit >= 10000:\n",
        "    ir = 3.5\n",
        "  elif deposit >=1000:\n",
        "    ir = 3.25\n",
        "  else:\n",
        "    ir = 3.0\n",
        "else:\n",
        "  ir = 4\n",
        "\n",
        "total = (1+ ir/100) * deposit\n",
        "print(f'Total deposit: {total}$')"
      ],
      "metadata": {
        "colab": {
          "base_uri": "https://localhost:8080/"
        },
        "id": "tx3kyrInL1Jw",
        "outputId": "29c03120-582d-4870-81b7-c7c615e7298e"
      },
      "execution_count": null,
      "outputs": [
        {
          "output_type": "stream",
          "name": "stdout",
          "text": [
            "Please enter customer type (N: new/E: existing):E\n",
            "Please enter deposit amount: 2000\n",
            "Total deposit: 2065.0$\n"
          ]
        }
      ]
    },
    {
      "cell_type": "code",
      "source": [
        "customer_type = input('Please enter customer type (N: new/E: existing):')\n",
        "deposit = float(input('Please enter deposit amount: '))\n",
        "\n",
        "if customer_type == 'E' and deposit >= 10000:\n",
        "  ir = 3.5\n",
        "elif customer_type == 'E' and deposit >= 1000:\n",
        "  ir = 3.25\n",
        "elif customer_type == 'E' and deposit < 1000:\n",
        "  ir = 3.0\n",
        "else:\n",
        "  ir = 4\n",
        "\n",
        "total = (1+ ir/100) * deposit\n",
        "print(f'Total deposit: {total}$')"
      ],
      "metadata": {
        "id": "Rgc5NhZoZKpe"
      },
      "execution_count": null,
      "outputs": []
    },
    {
      "cell_type": "markdown",
      "source": [
        "1/31 design a calculator:  input 2 numbers and takes a symbol"
      ],
      "metadata": {
        "id": "E7oClABAb9ah"
      }
    },
    {
      "cell_type": "code",
      "source": [
        "a = int(input('Input a number you want to calculate:'))\n",
        "b = int(input('Input a second number you want to calculate:'))\n",
        "symbol = str(input('Input the operator: '))\n",
        "\n",
        "if symbol == '+':\n",
        "  print(a + b)\n",
        "elif symbol == '-':\n",
        "  print(a - b)\n",
        "elif symbol == '/':\n",
        "  print(a / b)\n",
        "elif symbol == '//':\n",
        "  print(a // b)\n",
        "elif symbol == '**':\n",
        "  print(a**b)\n",
        "elif symbol == '%':\n",
        "  print(a%b)\n",
        "else:\n",
        "  print('Invalid operator')"
      ],
      "metadata": {
        "colab": {
          "base_uri": "https://localhost:8080/"
        },
        "id": "N45bUtbob8v4",
        "outputId": "31ae67ac-f631-46a2-9995-cc6212d60f11"
      },
      "execution_count": null,
      "outputs": [
        {
          "output_type": "stream",
          "name": "stdout",
          "text": [
            "Input a number you want to calculate:5\n",
            "Input a second number you want to calculate:2\n",
            "Input the operator: -\n",
            "3\n"
          ]
        }
      ]
    },
    {
      "cell_type": "markdown",
      "source": [
        "2/5 Parking Garage"
      ],
      "metadata": {
        "id": "uZqjNDDaJs_P"
      }
    },
    {
      "cell_type": "code",
      "source": [
        "for hours in range(1,9):\n",
        "  parking_fee = 5 + (2.5 * hours)\n",
        "  if parking_fee < 10:\n",
        "    parking_fee = 10\n",
        "  elif parking_fee >= 20:\n",
        "    parking_fee = 20\n",
        "  print(hours, parking_fee)"
      ],
      "metadata": {
        "colab": {
          "base_uri": "https://localhost:8080/"
        },
        "id": "9AenGR40Jr09",
        "outputId": "0ca5f18c-b590-433a-d3e3-8c243ef0bf64"
      },
      "execution_count": 10,
      "outputs": [
        {
          "output_type": "stream",
          "name": "stdout",
          "text": [
            "1 10\n",
            "2 10.0\n",
            "3 12.5\n",
            "4 15.0\n",
            "5 17.5\n",
            "6 20\n",
            "7 20\n",
            "8 20\n"
          ]
        }
      ]
    },
    {
      "cell_type": "markdown",
      "source": [
        "movie theater problem:"
      ],
      "metadata": {
        "id": "iFu3wu-KOJCV"
      }
    },
    {
      "cell_type": "code",
      "source": [
        "print('Ad$', 'Profit')\n",
        "for cost in range(0,201,25):\n",
        "  additional_attendees = 2 * round(cost**0.5)\n",
        "  profit = (20 +additional_attendees) * 10 - 200 - cost\n",
        "  print(cost, profit)\n",
        ""
      ],
      "metadata": {
        "colab": {
          "base_uri": "https://localhost:8080/"
        },
        "id": "KJjnIfJmK31p",
        "outputId": "cf36ac6f-5308-4c9f-d858-20ae16864b5c"
      },
      "execution_count": 13,
      "outputs": [
        {
          "output_type": "stream",
          "name": "stdout",
          "text": [
            "Ad$ Profit\n",
            "0 0\n",
            "25 75\n",
            "50 90\n",
            "75 105\n",
            "100 100\n",
            "125 95\n",
            "150 90\n",
            "175 85\n",
            "200 80\n"
          ]
        }
      ]
    }
  ]
}