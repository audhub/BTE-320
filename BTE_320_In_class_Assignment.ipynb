{
  "nbformat": 4,
  "nbformat_minor": 0,
  "metadata": {
    "colab": {
      "provenance": [],
      "authorship_tag": "ABX9TyMYENCiGA4FBG5ZMd7d4I+R",
      "include_colab_link": true
    },
    "kernelspec": {
      "name": "python3",
      "display_name": "Python 3"
    },
    "language_info": {
      "name": "python"
    }
  },
  "cells": [
    {
      "cell_type": "markdown",
      "metadata": {
        "id": "view-in-github",
        "colab_type": "text"
      },
      "source": [
        "<a href=\"https://colab.research.google.com/github/audhub/BTE-320/blob/main/BTE_320_In_class_Assignment.ipynb\" target=\"_parent\"><img src=\"https://colab.research.google.com/assets/colab-badge.svg\" alt=\"Open In Colab\"/></a>"
      ]
    },
    {
      "cell_type": "code",
      "execution_count": null,
      "metadata": {
        "colab": {
          "base_uri": "https://localhost:8080/"
        },
        "id": "uh7KPsA7cVD8",
        "outputId": "972c38ee-9b42-44cb-9c28-06cccb6ae50e"
      },
      "outputs": [
        {
          "output_type": "stream",
          "name": "stdout",
          "text": [
            "450\n"
          ]
        }
      ],
      "source": [
        "\n",
        "pi = 3.14\n",
        "R= 5\n",
        "h= 10\n",
        "\n",
        "cylinder_sa = (2*int(pi)*(int((R)**2))) + (2*int(pi)*int(R)*int(h))\n",
        "\n",
        "print(cylinder_sa)"
      ]
    },
    {
      "cell_type": "markdown",
      "source": [
        "way teacher solved it in class with inputs:"
      ],
      "metadata": {
        "id": "DHkRPo0xcr0K"
      }
    },
    {
      "cell_type": "code",
      "source": [
        "pi = 3.14\n",
        "radius = float(input(\"Please provide radius:\"))\n",
        "height = float(input('Please provide height of cylinder:'))\n",
        "\n",
        "area = (2*pi*(radius**2))+(2*pi*radius*height)\n",
        "\n",
        "print(f\"Area of cylinder = {area} sq ft\")"
      ],
      "metadata": {
        "colab": {
          "base_uri": "https://localhost:8080/"
        },
        "id": "LEH4F2azcrMF",
        "outputId": "08662516-5f93-4864-8055-a4e6e33088c2"
      },
      "execution_count": null,
      "outputs": [
        {
          "output_type": "stream",
          "name": "stdout",
          "text": [
            "Please provide radius:5\n",
            "Please provide height of cylinder:10\n",
            "Area of cylinder = 471.0 sq ft\n"
          ]
        }
      ]
    },
    {
      "cell_type": "code",
      "source": [
        "customer_type = input('Please enter customer type (N: new/E: existing):')\n",
        "deposit = float(input('Please enter deposit amount: '))\n",
        "\n",
        "if customer_type == 'E':\n",
        "  if deposit >= 10000:\n",
        "    ir = 3.5\n",
        "  elif deposit >=1000:\n",
        "    ir = 3.25\n",
        "  else:\n",
        "    ir = 3.0\n",
        "else:\n",
        "  ir = 4\n",
        "\n",
        "total = (1+ ir/100) * deposit\n",
        "print(f'Total deposit: {total}$')"
      ],
      "metadata": {
        "colab": {
          "base_uri": "https://localhost:8080/"
        },
        "id": "tx3kyrInL1Jw",
        "outputId": "29c03120-582d-4870-81b7-c7c615e7298e"
      },
      "execution_count": null,
      "outputs": [
        {
          "output_type": "stream",
          "name": "stdout",
          "text": [
            "Please enter customer type (N: new/E: existing):E\n",
            "Please enter deposit amount: 2000\n",
            "Total deposit: 2065.0$\n"
          ]
        }
      ]
    },
    {
      "cell_type": "code",
      "source": [
        "customer_type = input('Please enter customer type (N: new/E: existing):')\n",
        "deposit = float(input('Please enter deposit amount: '))\n",
        "\n",
        "if customer_type == 'E' and deposit >= 10000:\n",
        "  ir = 3.5\n",
        "elif customer_type == 'E' and deposit >= 1000:\n",
        "  ir = 3.25\n",
        "elif customer_type == 'E' and deposit < 1000:\n",
        "  ir = 3.0\n",
        "else:\n",
        "  ir = 4\n",
        "\n",
        "total = (1+ ir/100) * deposit\n",
        "print(f'Total deposit: {total}$')"
      ],
      "metadata": {
        "id": "Rgc5NhZoZKpe"
      },
      "execution_count": null,
      "outputs": []
    },
    {
      "cell_type": "markdown",
      "source": [
        "1/31 design a calculator:  input 2 numbers and takes a symbol"
      ],
      "metadata": {
        "id": "E7oClABAb9ah"
      }
    },
    {
      "cell_type": "code",
      "source": [
        "a = int(input('Input a number you want to calculate:'))\n",
        "b = int(input('Input a second number you want to calculate:'))\n",
        "symbol = str(input('Input the operator: '))\n",
        "\n",
        "if symbol == '+':\n",
        "  print(a + b)\n",
        "elif symbol == '-':\n",
        "  print(a - b)\n",
        "elif symbol == '/':\n",
        "  print(a / b)\n",
        "elif symbol == '//':\n",
        "  print(a // b)\n",
        "elif symbol == '**':\n",
        "  print(a**b)\n",
        "elif symbol == '%':\n",
        "  print(a%b)\n",
        "else:\n",
        "  print('Invalid operator')"
      ],
      "metadata": {
        "colab": {
          "base_uri": "https://localhost:8080/"
        },
        "id": "N45bUtbob8v4",
        "outputId": "31ae67ac-f631-46a2-9995-cc6212d60f11"
      },
      "execution_count": null,
      "outputs": [
        {
          "output_type": "stream",
          "name": "stdout",
          "text": [
            "Input a number you want to calculate:5\n",
            "Input a second number you want to calculate:2\n",
            "Input the operator: -\n",
            "3\n"
          ]
        }
      ]
    },
    {
      "cell_type": "markdown",
      "source": [
        "2/5 Parking Garage"
      ],
      "metadata": {
        "id": "uZqjNDDaJs_P"
      }
    },
    {
      "cell_type": "code",
      "source": [
        "for hours in range(1,9):\n",
        "  parking_fee = 5 + (2.5 * hours)\n",
        "  if parking_fee < 10:\n",
        "    parking_fee = 10\n",
        "  elif parking_fee >= 20:\n",
        "    parking_fee = 20\n",
        "  print(hours, parking_fee)"
      ],
      "metadata": {
        "colab": {
          "base_uri": "https://localhost:8080/"
        },
        "id": "9AenGR40Jr09",
        "outputId": "0ca5f18c-b590-433a-d3e3-8c243ef0bf64"
      },
      "execution_count": null,
      "outputs": [
        {
          "output_type": "stream",
          "name": "stdout",
          "text": [
            "1 10\n",
            "2 10.0\n",
            "3 12.5\n",
            "4 15.0\n",
            "5 17.5\n",
            "6 20\n",
            "7 20\n",
            "8 20\n"
          ]
        }
      ]
    },
    {
      "cell_type": "markdown",
      "source": [
        "movie theater problem:"
      ],
      "metadata": {
        "id": "iFu3wu-KOJCV"
      }
    },
    {
      "cell_type": "code",
      "source": [
        "print('Ad$', 'Profit')\n",
        "for cost in range(0,201,25):\n",
        "  additional_attendees = 2 * round(cost**0.5)\n",
        "  profit = (20 +additional_attendees) * 10 - 200 - cost\n",
        "  print(cost, profit)\n"
      ],
      "metadata": {
        "colab": {
          "base_uri": "https://localhost:8080/"
        },
        "id": "KJjnIfJmK31p",
        "outputId": "cf36ac6f-5308-4c9f-d858-20ae16864b5c"
      },
      "execution_count": null,
      "outputs": [
        {
          "output_type": "stream",
          "name": "stdout",
          "text": [
            "Ad$ Profit\n",
            "0 0\n",
            "25 75\n",
            "50 90\n",
            "75 105\n",
            "100 100\n",
            "125 95\n",
            "150 90\n",
            "175 85\n",
            "200 80\n"
          ]
        }
      ]
    },
    {
      "cell_type": "markdown",
      "source": [
        "Feb 10 - rock paper scissors"
      ],
      "metadata": {
        "id": "qVDHVRQE4pbX"
      }
    },
    {
      "cell_type": "code",
      "source": [
        "answer = input('Would you like to play? Yes or No: ')\n",
        "while answer == 'Yes':\n",
        "  player1 = input('Player 1 - choose rock, paper or scissors: ')\n",
        "  player2 = input('Player 2 - choose rock, paper or scissors: ')\n",
        "  if player1 == player2:\n",
        "    print('Draw')\n",
        "  elif player1 == 'Rock' and player2 =='Scissors':\n",
        "    print('Player 1 wins')\n",
        "  elif player1 == 'Scissors' and player2 == 'Paper':\n",
        "    print('Player 1 wins')\n",
        "  elif player1 == 'Paper' and player2 == 'Rock':\n",
        "    print('Player 1 wins')\n",
        "  else:\n",
        "    print('Player 2 wins')\n",
        "\n",
        "  answer = input('Would you like to continue playing? Yes or No')\n",
        "\n",
        "print('Have a good day!')"
      ],
      "metadata": {
        "colab": {
          "base_uri": "https://localhost:8080/"
        },
        "id": "ngIojkRF4pGq",
        "outputId": "fdea38d6-58da-4c5d-d15b-fee5fbd0b5c8"
      },
      "execution_count": null,
      "outputs": [
        {
          "output_type": "stream",
          "name": "stdout",
          "text": [
            "Would you like to play? Yes or No: Yes\n",
            "Player 1 - choose rock, paper or scissors: rock\n",
            "Player 2 - choose rock, paper or scissors: scissors\n",
            "Player 2 wins\n",
            "Would you like to continue playing? Yes or NoYes\n",
            "Player 1 - choose rock, paper or scissors: Rock\n",
            "Player 2 - choose rock, paper or scissors: Scissors\n",
            "Player 1 wins\n",
            "Would you like to continue playing? Yes or Nono\n",
            "Have a good day!\n"
          ]
        }
      ]
    },
    {
      "cell_type": "code",
      "source": [
        "import random\n",
        "\n",
        "answer = input('Would you like to play? Yes or No: ')\n",
        "while answer == 'Yes':\n",
        "  player1 = input('Player 1 - choose rock, paper or scissors: ').capitalize()\n",
        "  player2 = random.choice(['rock', 'paper', 'scissors']).capitalize()\n",
        "\n",
        "  print(f'Player 1 chose {player1}; computer chose {player2}')\n",
        "  if player1 == player2:\n",
        "    print('Draw')\n",
        "  elif ((player1 == 'Rock' and player2 =='Scissors') or\n",
        "   (player1 == 'Scissors' and player2 == 'Paper') or\n",
        "    (player1 == 'Paper' and player2 == 'Rock')):\n",
        "    print('Player 1 wins')\n",
        "  else:\n",
        "    print('Player 2 wins')\n",
        "\n",
        "  answer = input('Would you like to continue playing? Yes or No: ')\n",
        "\n",
        "print('Have a good day!')"
      ],
      "metadata": {
        "colab": {
          "base_uri": "https://localhost:8080/"
        },
        "id": "W2Yv8tNe-Jp2",
        "outputId": "65d09c5b-3578-4928-e480-c2c217a3c72e"
      },
      "execution_count": null,
      "outputs": [
        {
          "output_type": "stream",
          "name": "stdout",
          "text": [
            "Would you like to play? Yes or No: Yes\n",
            "Player 1 - choose rock, paper or scissors: rock\n",
            "Player 1 chose Rock; computer chose Paper\n",
            "Player 2 wins\n",
            "Would you like to continue playing? Yes or Nono\n",
            "Have a good day!\n"
          ]
        }
      ]
    },
    {
      "cell_type": "markdown",
      "source": [
        "In class assignment Feb 17:\n",
        "\n",
        "given an empty list write a program that adds numbers to list given by the user until user puts 0. print list in decending order"
      ],
      "metadata": {
        "id": "TfoiC_rT_g1F"
      }
    },
    {
      "cell_type": "code",
      "source": [
        "x = []\n",
        "\n",
        "num = int(input(\"Provide a number to add to the list: \"))\n",
        "\n",
        "while num != 0:\n",
        "  x.append(num)\n",
        "  num = int(input(\"Provide a number to add to the list: \"))\n",
        "  if num == 0:\n",
        "    x.append(0)\n",
        "    break\n",
        "\n",
        "x.sort(reverse=True)\n",
        "print(x)\n"
      ],
      "metadata": {
        "colab": {
          "base_uri": "https://localhost:8080/"
        },
        "id": "Dwfh54Ht_91m",
        "outputId": "0bec6bdf-8b24-497f-99d3-907423224810"
      },
      "execution_count": null,
      "outputs": [
        {
          "output_type": "stream",
          "name": "stdout",
          "text": [
            "Provide a number to add to the list: 1\n",
            "Provide a number to add to the list: 2\n",
            "Provide a number to add to the list: 3\n",
            "Provide a number to add to the list: 4\n",
            "Provide a number to add to the list: 5\n",
            "Provide a number to add to the list: 0\n",
            "[5, 4, 3, 2, 1, 0]\n"
          ]
        }
      ]
    },
    {
      "cell_type": "markdown",
      "source": [
        "Assignment: Feb 21"
      ],
      "metadata": {
        "id": "jpKzUzZMiPqw"
      }
    },
    {
      "cell_type": "code",
      "source": [
        "months = {}\n",
        "\n",
        "names = ['Jan', 'Feb', \"March\", 'April', 'May', 'Jun', 'July', 'Aug', 'Sep ', 'Oct', 'Nov', 'Dec']\n",
        "numbers = [1,2,3,4,5,6,7,8,9,10,11,12]\n",
        "\n",
        "for char in range(len(numbers)):\n",
        "  months[numbers[char]] = names[char]\n",
        "\n",
        "print(months)"
      ],
      "metadata": {
        "colab": {
          "base_uri": "https://localhost:8080/"
        },
        "id": "N7WNG3bciRXU",
        "outputId": "00ac9db0-1802-4bcd-ebe6-ae7817a51766"
      },
      "execution_count": null,
      "outputs": [
        {
          "output_type": "stream",
          "name": "stdout",
          "text": [
            "{1: 'Jan', 2: 'Feb', 3: 'March', 4: 'April', 5: 'May', 6: 'Jun', 7: 'July', 8: 'Aug', 9: 'Sep ', 10: 'Oct', 11: 'Nov', 12: 'Dec'}\n"
          ]
        }
      ]
    },
    {
      "cell_type": "code",
      "source": [
        "counts = {}\n",
        "\n",
        "while len(counts) <5:\n",
        "  char = input('Provide a string: ')\n",
        "  if char not in counts:\n",
        "    counts[char] = 1\n",
        "  else:\n",
        "    counts[char] += 1\n",
        "\n",
        "print(counts)"
      ],
      "metadata": {
        "colab": {
          "base_uri": "https://localhost:8080/"
        },
        "id": "jgePnKXxn413",
        "outputId": "721eae3a-ae4b-48b1-bdf6-8fe6e25280f6"
      },
      "execution_count": null,
      "outputs": [
        {
          "output_type": "stream",
          "name": "stdout",
          "text": [
            "Provide a string: hi\n",
            "Provide a string: bye\n",
            "Provide a string: hi\n",
            "Provide a string: ok\n",
            "Provide a string: ok\n",
            "Provide a string: ok\n",
            "Provide a string: ok\n",
            "Provide a string: ok\n",
            "Provide a string: lol\n",
            "Provide a string: go\n",
            "{'hi': 2, 'bye': 1, 'ok': 5, 'lol': 1, 'go': 1}\n"
          ]
        }
      ]
    },
    {
      "cell_type": "markdown",
      "source": [
        "Feb 26 - parking garage"
      ],
      "metadata": {
        "id": "Fx0DH0b-XTUP"
      }
    },
    {
      "cell_type": "code",
      "source": [
        "def calcFee(hours):\n",
        "  print(f'Number of hours parked: {hours}')\n",
        "  for hours in range(1,9):\n",
        "    parking_fee = 5 + (2.5 * hours)\n",
        "  if parking_fee < 10:\n",
        "    parking_fee = 10\n",
        "  elif parking_fee >= 20:\n",
        "    parking_fee = 20\n",
        "  print(f'Parking fee: ${parking_fee}')\n",
        "\n",
        "\n",
        "calcFee(4)\n"
      ],
      "metadata": {
        "colab": {
          "base_uri": "https://localhost:8080/"
        },
        "id": "spoA_KEZXU8G",
        "outputId": "c903075b-e1da-4f30-aea4-c6b304e043a0"
      },
      "execution_count": null,
      "outputs": [
        {
          "output_type": "stream",
          "name": "stdout",
          "text": [
            "Number of hours parked: 4\n",
            "Parking fee: $20\n"
          ]
        }
      ]
    },
    {
      "cell_type": "markdown",
      "source": [
        "in class assignment March 21"
      ],
      "metadata": {
        "id": "FyT_G1ts9U35"
      }
    },
    {
      "cell_type": "code",
      "source": [
        "def fibR(n):\n",
        "  if n > 1: #inductive case\n",
        "    return fibR(n-1) + fibR(n-2)\n",
        "  else:\n",
        "    return 1\n",
        "\n",
        "fibR(5)"
      ],
      "metadata": {
        "colab": {
          "base_uri": "https://localhost:8080/"
        },
        "id": "SORU84jc9Yx-",
        "outputId": "211d988f-c68c-499e-bfaf-2e8f2b67f69e"
      },
      "execution_count": null,
      "outputs": [
        {
          "output_type": "execute_result",
          "data": {
            "text/plain": [
              "8"
            ]
          },
          "metadata": {},
          "execution_count": 1
        }
      ]
    },
    {
      "cell_type": "code",
      "source": [
        "def reverse(s):\n",
        "  if len(s) == 1:\n",
        "    return s\n",
        "  else:\n",
        "    return s[-1] + reverse(s[:-1])\n",
        "\n",
        "\n",
        "reverse('Hello')"
      ],
      "metadata": {
        "colab": {
          "base_uri": "https://localhost:8080/",
          "height": 35
        },
        "id": "dn6k5-sT_VM8",
        "outputId": "7a533428-bbd3-4bb6-ff69-f7428a3641c3"
      },
      "execution_count": null,
      "outputs": [
        {
          "output_type": "execute_result",
          "data": {
            "text/plain": [
              "'olleH'"
            ],
            "application/vnd.google.colaboratory.intrinsic+json": {
              "type": "string"
            }
          },
          "metadata": {},
          "execution_count": 3
        }
      ]
    },
    {
      "cell_type": "markdown",
      "source": [
        "march 31 assignment"
      ],
      "metadata": {
        "id": "apgCBynGEK8i"
      }
    },
    {
      "cell_type": "code",
      "source": [
        "def calcFee(hours):\n",
        "  print(f'Number of hours parked: {hours}')\n",
        "  for hours in range(1,9):\n",
        "    parking_fee = 5 + (2.5 * hours)\n",
        "  if parking_fee < 10:\n",
        "    parking_fee = 10\n",
        "  elif parking_fee >= 20:\n",
        "    parking_fee = 20\n",
        "  print(f'Parking fee: ${parking_fee}')\n",
        "\n",
        "def main():\n",
        "  numHours = int(input('Enter number of hours: '))\n",
        "  calcFee(numHours)\n",
        "\n",
        "if __name__ == \"__main__\":\n",
        "  main()\n"
      ],
      "metadata": {
        "colab": {
          "base_uri": "https://localhost:8080/"
        },
        "id": "fLqgebLFDyzQ",
        "outputId": "4846f25f-5e6e-413f-d7d6-86a1af918eef"
      },
      "execution_count": null,
      "outputs": [
        {
          "output_type": "stream",
          "name": "stdout",
          "text": [
            "Enter number of hours: 2\n",
            "Number of hours parked: 2\n",
            "Parking fee: $20\n"
          ]
        }
      ]
    },
    {
      "cell_type": "code",
      "source": [
        "def getValues(n):\n",
        "    weight_lst = []\n",
        "    for num in range(n):\n",
        "        weight = float(input('Provide the weight: '))\n",
        "        weight_lst.append(weight)\n",
        "    return weight_lst\n",
        "\n",
        "def calcAverage(alist):\n",
        "  try:\n",
        "    print(f'The average weight is {sum(alist[2:]) / len(alist[2:])}')\n",
        "  except:\n",
        "    print(f'List {alist} is empty')\n",
        "\n",
        "if __name__ == \"__main__\":\n",
        "  try:\n",
        "    n = int(input('Enter size of list: '))\n",
        "    alist = getValues(n)\n",
        "    calcAverage(alist)\n",
        "  except ValueError:\n",
        "    print(\"Input cannot be casted as an int()\")\n",
        "\n"
      ],
      "metadata": {
        "colab": {
          "base_uri": "https://localhost:8080/"
        },
        "id": "jHqhDx2LG0Xq",
        "outputId": "f48eacca-14b0-4f7c-884d-402610bbafe1"
      },
      "execution_count": null,
      "outputs": [
        {
          "output_type": "stream",
          "name": "stdout",
          "text": [
            "Enter size of list: 3\n",
            "Provide the weight: 1\n",
            "Provide the weight: 2\n",
            "Provide the weight: 3\n",
            "The average weight is 3.0\n"
          ]
        }
      ]
    },
    {
      "cell_type": "markdown",
      "source": [
        "April 7"
      ],
      "metadata": {
        "id": "jiOhfFFXJ6hf"
      }
    },
    {
      "cell_type": "code",
      "source": [
        "class Greeting:\n",
        "  def __init__(self, first, last):\n",
        "    self.first = first\n",
        "    self.last = last\n",
        "  def display(self):\n",
        "    print(f'Hi {self.first}')\n",
        "\n",
        "greeting = Greeting('Donald', 'Becker')\n",
        "greeting.display()"
      ],
      "metadata": {
        "colab": {
          "base_uri": "https://localhost:8080/"
        },
        "id": "hhTUBX0cJ6En",
        "outputId": "b4719164-9318-4dfa-edef-c4c5f96d1927"
      },
      "execution_count": 3,
      "outputs": [
        {
          "output_type": "stream",
          "name": "stdout",
          "text": [
            "Hi Donald\n"
          ]
        }
      ]
    }
  ]
}