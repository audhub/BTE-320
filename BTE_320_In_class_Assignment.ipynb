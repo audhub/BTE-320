{
  "nbformat": 4,
  "nbformat_minor": 0,
  "metadata": {
    "colab": {
      "provenance": [],
      "authorship_tag": "ABX9TyPSIPSUkqtvGZoSIIIzja2n",
      "include_colab_link": true
    },
    "kernelspec": {
      "name": "python3",
      "display_name": "Python 3"
    },
    "language_info": {
      "name": "python"
    }
  },
  "cells": [
    {
      "cell_type": "markdown",
      "metadata": {
        "id": "view-in-github",
        "colab_type": "text"
      },
      "source": [
        "<a href=\"https://colab.research.google.com/github/audhub/BTE-320/blob/main/BTE_320_In_class_Assignment.ipynb\" target=\"_parent\"><img src=\"https://colab.research.google.com/assets/colab-badge.svg\" alt=\"Open In Colab\"/></a>"
      ]
    },
    {
      "cell_type": "code",
      "execution_count": null,
      "metadata": {
        "colab": {
          "base_uri": "https://localhost:8080/"
        },
        "id": "uh7KPsA7cVD8",
        "outputId": "972c38ee-9b42-44cb-9c28-06cccb6ae50e"
      },
      "outputs": [
        {
          "output_type": "stream",
          "name": "stdout",
          "text": [
            "450\n"
          ]
        }
      ],
      "source": [
        "\n",
        "pi = 3.14\n",
        "R= 5\n",
        "h= 10\n",
        "\n",
        "cylinder_sa = (2*int(pi)*(int((R)**2))) + (2*int(pi)*int(R)*int(h))\n",
        "\n",
        "print(cylinder_sa)"
      ]
    },
    {
      "cell_type": "markdown",
      "source": [
        "way teacher solved it in class with inputs:"
      ],
      "metadata": {
        "id": "DHkRPo0xcr0K"
      }
    },
    {
      "cell_type": "code",
      "source": [
        "pi = 3.14\n",
        "radius = float(input(\"Please provide radius:\"))\n",
        "height = float(input('Please provide height of cylinder:'))\n",
        "\n",
        "area = (2*pi*(radius**2))+(2*pi*radius*height)\n",
        "\n",
        "print(f\"Area of cylinder = {area} sq ft\")"
      ],
      "metadata": {
        "colab": {
          "base_uri": "https://localhost:8080/"
        },
        "id": "LEH4F2azcrMF",
        "outputId": "08662516-5f93-4864-8055-a4e6e33088c2"
      },
      "execution_count": null,
      "outputs": [
        {
          "output_type": "stream",
          "name": "stdout",
          "text": [
            "Please provide radius:5\n",
            "Please provide height of cylinder:10\n",
            "Area of cylinder = 471.0 sq ft\n"
          ]
        }
      ]
    },
    {
      "cell_type": "code",
      "source": [
        "x = 2\n",
        "y = 3\n",
        "\n",
        "if x < 3:\n",
        "  print('x less than y')"
      ],
      "metadata": {
        "colab": {
          "base_uri": "https://localhost:8080/"
        },
        "id": "dDtCVFQYgL6j",
        "outputId": "1c440eb1-48e0-4706-983c-b3475a7605bb"
      },
      "execution_count": null,
      "outputs": [
        {
          "output_type": "stream",
          "name": "stdout",
          "text": [
            "x less than y\n"
          ]
        }
      ]
    },
    {
      "cell_type": "markdown",
      "source": [
        "**in class: 1/27**"
      ],
      "metadata": {
        "id": "7q9MZPjm4U99"
      }
    },
    {
      "cell_type": "markdown",
      "source": [
        "format of an if statement"
      ],
      "metadata": {
        "id": "SZVnMfAf4vDG"
      }
    },
    {
      "cell_type": "code",
      "source": [
        "if condition:\n",
        "  expr\n",
        "  expr"
      ],
      "metadata": {
        "id": "HAnvMvn74UHK"
      },
      "execution_count": null,
      "outputs": []
    },
    {
      "cell_type": "code",
      "source": [
        "fico = int(input('Please provide your FICO score:'))\n",
        "\n",
        "if fico >= 700:\n",
        "  print('Loan granted!')\n",
        "else:\n",
        "  print('Loan denied!')"
      ],
      "metadata": {
        "colab": {
          "base_uri": "https://localhost:8080/"
        },
        "id": "jWflUzcw4Z_X",
        "outputId": "59421e9e-7d03-4776-c392-763b5b0168f7"
      },
      "execution_count": null,
      "outputs": [
        {
          "output_type": "stream",
          "name": "stdout",
          "text": [
            "Please provide your FICO score:500\n",
            "Loan denied!\n"
          ]
        }
      ]
    },
    {
      "cell_type": "markdown",
      "source": [
        "another option using elif:\n",
        "elif can be used infinte amount of times - using else after elif is optional"
      ],
      "metadata": {
        "id": "Ce9KvHp48VAQ"
      }
    },
    {
      "cell_type": "code",
      "source": [
        "fico = int(input('Please provide your FICO score:'))\n",
        "\n",
        "if fico >= 700:\n",
        "  print('Loan granted!')\n",
        "elif fico <700:\n",
        "  print('Loan denied!')"
      ],
      "metadata": {
        "colab": {
          "base_uri": "https://localhost:8080/"
        },
        "id": "BXHg9n128bRT",
        "outputId": "028b371c-2786-4a62-9f5c-1288e14f52d5"
      },
      "execution_count": null,
      "outputs": [
        {
          "output_type": "stream",
          "name": "stdout",
          "text": [
            "Please provide your FICO score:500\n",
            "Loan denied!\n"
          ]
        }
      ]
    },
    {
      "cell_type": "code",
      "source": [
        "num_grade = float(input('Please provide your numeric grade:'))\n",
        "\n",
        "if num_grade >= 97:\n",
        "  print('A+')\n",
        "elif num_grade >= 93:\n",
        "  print('A')\n",
        "elif num_grade >= 90:\n",
        "   print('A-')\n",
        "elif num_grade >= 87:\n",
        "   print('B+')\n",
        "elif num_grade >= 83:\n",
        "   print('B')"
      ],
      "metadata": {
        "colab": {
          "base_uri": "https://localhost:8080/"
        },
        "id": "ZB15GYCqFq_y",
        "outputId": "383bc817-3e38-4d14-89c6-8e61a6ee0d79"
      },
      "execution_count": null,
      "outputs": [
        {
          "output_type": "stream",
          "name": "stdout",
          "text": [
            "Please provide your numeric grade:98\n",
            "A+\n"
          ]
        }
      ]
    },
    {
      "cell_type": "code",
      "source": [
        "customer_type = input('Please enter customer type (N: new/E: existing):')\n",
        "deposit = float(input('Please enter deposit amount: '))\n",
        "\n",
        "if customer_type == 'E':\n",
        "  if deposit >= 10000:\n",
        "    ir = 3.5\n",
        "  elif deposit >=1000:\n",
        "    ir = 3.25\n",
        "  else:\n",
        "    ir = 3.0\n",
        "else:\n",
        "  ir = 4\n",
        "\n",
        "total = (1+ ir/100) * deposit\n",
        "print(f'Total deposit: {total}$')"
      ],
      "metadata": {
        "colab": {
          "base_uri": "https://localhost:8080/"
        },
        "id": "tx3kyrInL1Jw",
        "outputId": "29c03120-582d-4870-81b7-c7c615e7298e"
      },
      "execution_count": null,
      "outputs": [
        {
          "output_type": "stream",
          "name": "stdout",
          "text": [
            "Please enter customer type (N: new/E: existing):E\n",
            "Please enter deposit amount: 2000\n",
            "Total deposit: 2065.0$\n"
          ]
        }
      ]
    }
  ]
}