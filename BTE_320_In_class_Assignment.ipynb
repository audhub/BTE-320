{
  "nbformat": 4,
  "nbformat_minor": 0,
  "metadata": {
    "colab": {
      "provenance": [],
      "authorship_tag": "ABX9TyNXJyslBMm0B0n6q42ttxCX",
      "include_colab_link": true
    },
    "kernelspec": {
      "name": "python3",
      "display_name": "Python 3"
    },
    "language_info": {
      "name": "python"
    }
  },
  "cells": [
    {
      "cell_type": "markdown",
      "metadata": {
        "id": "view-in-github",
        "colab_type": "text"
      },
      "source": [
        "<a href=\"https://colab.research.google.com/github/audhub/BTE-320/blob/main/BTE_320_In_class_Assignment.ipynb\" target=\"_parent\"><img src=\"https://colab.research.google.com/assets/colab-badge.svg\" alt=\"Open In Colab\"/></a>"
      ]
    },
    {
      "cell_type": "code",
      "execution_count": null,
      "metadata": {
        "colab": {
          "base_uri": "https://localhost:8080/"
        },
        "id": "uh7KPsA7cVD8",
        "outputId": "972c38ee-9b42-44cb-9c28-06cccb6ae50e"
      },
      "outputs": [
        {
          "output_type": "stream",
          "name": "stdout",
          "text": [
            "450\n"
          ]
        }
      ],
      "source": [
        "\n",
        "pi = 3.14\n",
        "R= 5\n",
        "h= 10\n",
        "\n",
        "cylinder_sa = (2*int(pi)*(int((R)**2))) + (2*int(pi)*int(R)*int(h))\n",
        "\n",
        "print(cylinder_sa)"
      ]
    },
    {
      "cell_type": "markdown",
      "source": [
        "way teacher solved it in class with inputs:"
      ],
      "metadata": {
        "id": "DHkRPo0xcr0K"
      }
    },
    {
      "cell_type": "code",
      "source": [
        "pi = 3.14\n",
        "radius = float(input(\"Please provide radius:\"))\n",
        "height = float(input('Please provide height of cylinder:'))\n",
        "\n",
        "area = (2*pi*(radius**2))+(2*pi*radius*height)\n",
        "\n",
        "print(f\"Area of cylinder = {area} sq ft\")"
      ],
      "metadata": {
        "colab": {
          "base_uri": "https://localhost:8080/"
        },
        "id": "LEH4F2azcrMF",
        "outputId": "08662516-5f93-4864-8055-a4e6e33088c2"
      },
      "execution_count": null,
      "outputs": [
        {
          "output_type": "stream",
          "name": "stdout",
          "text": [
            "Please provide radius:5\n",
            "Please provide height of cylinder:10\n",
            "Area of cylinder = 471.0 sq ft\n"
          ]
        }
      ]
    },
    {
      "cell_type": "code",
      "source": [
        "x = 2\n",
        "y = 3\n",
        "\n",
        "if x < 3:\n",
        "  print('x less than y')"
      ],
      "metadata": {
        "colab": {
          "base_uri": "https://localhost:8080/"
        },
        "id": "dDtCVFQYgL6j",
        "outputId": "1c440eb1-48e0-4706-983c-b3475a7605bb"
      },
      "execution_count": null,
      "outputs": [
        {
          "output_type": "stream",
          "name": "stdout",
          "text": [
            "x less than y\n"
          ]
        }
      ]
    }
  ]
}